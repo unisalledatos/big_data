{
  "nbformat": 4,
  "nbformat_minor": 0,
  "metadata": {
    "colab": {
      "provenance": []
    },
    "kernelspec": {
      "name": "python3",
      "display_name": "Python 3"
    },
    "language_info": {
      "name": "python"
    }
  },
  "cells": [
    {
      "cell_type": "markdown",
      "source": [
        "# Exploración de datos con `pandas`\n"
      ],
      "metadata": {
        "id": "9oNdaHMC32SE"
      }
    },
    {
      "cell_type": "code",
      "source": [
        "import numpy as np\n",
        "import pandas as pd\n",
        "import scipy.stats as st\n",
        "import seaborn as sns\n",
        "import matplotlib.pyplot as plt\n",
        "from scipy.spatial import distance_matrix\n",
        "\n",
        "from sklearn.preprocessing import StandardScaler, OrdinalEncoder, Normalizer\n",
        "from sklearn.impute import KNNImputer"
      ],
      "metadata": {
        "id": "H9kgE8Eq6gv9"
      },
      "execution_count": 2,
      "outputs": []
    },
    {
      "cell_type": "markdown",
      "source": [
        "## Elementos básicos de pandas\n",
        "\n",
        "- Crear, leer y escribir\n",
        "- Indexing en pandas\n",
        "- Acceder a columnas\n",
        "- Crear y borrar columnas\n",
        "- Funciones para resumir\n",
        "- Agrupar y ordenar\n",
        "- Tipos de datos y datos faltantes\n",
        "- Renombrar y remplazar información"
      ],
      "metadata": {
        "id": "ADVDPY3e4zNH"
      }
    },
    {
      "cell_type": "markdown",
      "source": [
        "### Crear, leer y escribir"
      ],
      "metadata": {
        "id": "T3t1JrQL5F6x"
      }
    },
    {
      "cell_type": "code",
      "source": [
        "# array\n",
        "# listas\n",
        "# diccionarios"
      ],
      "metadata": {
        "id": "hd0ngTvt6PxA"
      },
      "execution_count": null,
      "outputs": []
    },
    {
      "cell_type": "code",
      "source": [
        "# escribir"
      ],
      "metadata": {
        "id": "6YsrOTnO6uD_"
      },
      "execution_count": null,
      "outputs": []
    },
    {
      "cell_type": "code",
      "source": [
        "# leer"
      ],
      "metadata": {
        "id": "njc1y2qn6vfr"
      },
      "execution_count": null,
      "outputs": []
    },
    {
      "cell_type": "code",
      "source": [
        "# columna 1: númerica\n",
        "# columna 2: numérica incompleta\n",
        "# columna 3:"
      ],
      "metadata": {
        "id": "5WsTuzEF77lk"
      },
      "execution_count": null,
      "outputs": []
    },
    {
      "cell_type": "markdown",
      "source": [
        "### Exploración inicial"
      ],
      "metadata": {
        "id": "dr86h5-g7L8_"
      }
    },
    {
      "cell_type": "code",
      "source": [
        "# head, tail, info"
      ],
      "metadata": {
        "id": "EuxvqlZp7P-D"
      },
      "execution_count": null,
      "outputs": []
    },
    {
      "cell_type": "markdown",
      "source": [
        "### Indexing en pandas"
      ],
      "metadata": {
        "id": "VatpR9QT5H0-"
      }
    },
    {
      "cell_type": "code",
      "source": [
        "# iloc"
      ],
      "metadata": {
        "id": "vUbIi1tx6QME"
      },
      "execution_count": null,
      "outputs": []
    },
    {
      "cell_type": "code",
      "source": [
        "# loc"
      ],
      "metadata": {
        "id": "DmzxYbqU6xiO"
      },
      "execution_count": null,
      "outputs": []
    },
    {
      "cell_type": "markdown",
      "source": [
        "### Acceder a columnas"
      ],
      "metadata": {
        "id": "PImS68Kc5JQC"
      }
    },
    {
      "cell_type": "code",
      "source": [
        "# como diccionario"
      ],
      "metadata": {
        "id": "wBLN35-Q6Qd7"
      },
      "execution_count": null,
      "outputs": []
    },
    {
      "cell_type": "code",
      "source": [
        "# punto"
      ],
      "metadata": {
        "id": "rnC9qQ2F6zyE"
      },
      "execution_count": null,
      "outputs": []
    },
    {
      "cell_type": "markdown",
      "source": [
        "### Crear y borrar columnas"
      ],
      "metadata": {
        "id": "WSPF7OMI7iKt"
      }
    },
    {
      "cell_type": "code",
      "source": [
        "# constante"
      ],
      "metadata": {
        "id": "hKN0jik47kWu"
      },
      "execution_count": null,
      "outputs": []
    },
    {
      "cell_type": "code",
      "source": [
        "# lista"
      ],
      "metadata": {
        "id": "OSLxA1oP7lLs"
      },
      "execution_count": null,
      "outputs": []
    },
    {
      "cell_type": "code",
      "source": [
        "# otras columnas"
      ],
      "metadata": {
        "id": "tRODzHDw7l8Q"
      },
      "execution_count": null,
      "outputs": []
    },
    {
      "cell_type": "code",
      "source": [
        "# método apply"
      ],
      "metadata": {
        "id": "cDydqr_F7nRJ"
      },
      "execution_count": null,
      "outputs": []
    },
    {
      "cell_type": "code",
      "source": [
        "# método map"
      ],
      "metadata": {
        "id": "6-2D8ASm7nnw"
      },
      "execution_count": null,
      "outputs": []
    },
    {
      "cell_type": "code",
      "source": [
        "# drop"
      ],
      "metadata": {
        "id": "vuX1SHU87pxE"
      },
      "execution_count": null,
      "outputs": []
    },
    {
      "cell_type": "markdown",
      "source": [
        "### Funciones para resumir"
      ],
      "metadata": {
        "id": "Xuy69fmw5K68"
      }
    },
    {
      "cell_type": "code",
      "source": [
        "# mean\n",
        "# unique\n",
        "# nunique\n",
        "# describe\n",
        "# count\n",
        "# median"
      ],
      "metadata": {
        "id": "TCiX-lTJ6Q0e"
      },
      "execution_count": null,
      "outputs": []
    },
    {
      "cell_type": "markdown",
      "source": [
        "### Agrupar y ordenar"
      ],
      "metadata": {
        "id": "D-M3-VVu5Mb2"
      }
    },
    {
      "cell_type": "code",
      "source": [
        "# groupby"
      ],
      "metadata": {
        "id": "habYSJ7Y6RLH"
      },
      "execution_count": null,
      "outputs": []
    },
    {
      "cell_type": "code",
      "source": [
        "# pivot tables"
      ],
      "metadata": {
        "id": "SmYYHLg07Jae"
      },
      "execution_count": null,
      "outputs": []
    },
    {
      "cell_type": "markdown",
      "source": [
        "### Tipos de datos y datos faltantes"
      ],
      "metadata": {
        "id": "JRwT_giN5ONH"
      }
    },
    {
      "cell_type": "code",
      "source": [
        "# cambiar tipo de datos"
      ],
      "metadata": {
        "id": "hp6EUxeM6Rgg"
      },
      "execution_count": null,
      "outputs": []
    },
    {
      "cell_type": "code",
      "source": [
        "# contar datos faltantes"
      ],
      "metadata": {
        "id": "Xpjan_QF7VOf"
      },
      "execution_count": null,
      "outputs": []
    },
    {
      "cell_type": "code",
      "source": [
        "# fillna"
      ],
      "metadata": {
        "id": "tAFlgi8J7ynK"
      },
      "execution_count": null,
      "outputs": []
    },
    {
      "cell_type": "markdown",
      "source": [
        "### Renombrar y remplazar información"
      ],
      "metadata": {
        "id": "ojYHpL_L5QZo"
      }
    },
    {
      "cell_type": "code",
      "source": [
        "# rename"
      ],
      "metadata": {
        "id": "qhSXHkyK6R8F"
      },
      "execution_count": null,
      "outputs": []
    },
    {
      "cell_type": "code",
      "source": [
        "# replace"
      ],
      "metadata": {
        "id": "obc3JVTU7ccW"
      },
      "execution_count": null,
      "outputs": []
    },
    {
      "cell_type": "markdown",
      "source": [
        "## Limpieza de datos\n",
        "\n",
        "- Datos faltantes\n",
        "- Escalar y normalizar\n",
        "- Trabajar con fechas"
      ],
      "metadata": {
        "id": "SxxFxmyG5S4i"
      }
    },
    {
      "cell_type": "markdown",
      "source": [
        "### Datos faltantes"
      ],
      "metadata": {
        "id": "GUya7jbJ6SsQ"
      }
    },
    {
      "cell_type": "code",
      "source": [
        "# rellenar con un estadistico general"
      ],
      "metadata": {
        "id": "cpHcBvhP6W3e"
      },
      "execution_count": null,
      "outputs": []
    },
    {
      "cell_type": "code",
      "source": [
        "# rellenar con un estadístico condicionado"
      ],
      "metadata": {
        "id": "EHqCeMTV72Xy"
      },
      "execution_count": null,
      "outputs": []
    },
    {
      "cell_type": "code",
      "source": [
        "# rellenar con un modelo"
      ],
      "metadata": {
        "id": "ZrwNYOaw74T6"
      },
      "execution_count": null,
      "outputs": []
    },
    {
      "cell_type": "markdown",
      "source": [
        "### Escalar y normalizar"
      ],
      "metadata": {
        "id": "MJRteQqf6SkN"
      }
    },
    {
      "cell_type": "code",
      "source": [
        "# variables categóricas: dummy"
      ],
      "metadata": {
        "id": "2UNvZWLl6XJb"
      },
      "execution_count": null,
      "outputs": []
    },
    {
      "cell_type": "code",
      "source": [
        "# variables categóricas: ordenadas"
      ],
      "metadata": {
        "id": "1u_nu5sv8Grb"
      },
      "execution_count": null,
      "outputs": []
    },
    {
      "cell_type": "code",
      "source": [
        "# estandarizar una columna"
      ],
      "metadata": {
        "id": "ZRY0EnFs8GiS"
      },
      "execution_count": null,
      "outputs": []
    },
    {
      "cell_type": "code",
      "source": [
        "# normalizar una variable"
      ],
      "metadata": {
        "id": "oalikT2h8Ofu"
      },
      "execution_count": null,
      "outputs": []
    },
    {
      "cell_type": "markdown",
      "source": [
        "### Trabajar con fechas\n",
        "\n",
        "- `m`: month\n",
        "- `Y`: year\n",
        "- `d`: day\n",
        "- `H`: hour\n",
        "- `M`: minute\n",
        "- `S`: seconds\n"
      ],
      "metadata": {
        "id": "oxhwMlJ96Sbu"
      }
    },
    {
      "cell_type": "code",
      "source": [
        "# parse dates"
      ],
      "metadata": {
        "id": "6AyYOM6J6XYh"
      },
      "execution_count": null,
      "outputs": []
    },
    {
      "cell_type": "code",
      "source": [
        "# extraer fecha\n",
        "# extraer dia\n",
        "# extraer mes\n",
        "# extraer año\n",
        "# extraer dia de la semana\n",
        "# extraer semana del año"
      ],
      "metadata": {
        "id": "YVyrdsgc9mEO"
      },
      "execution_count": null,
      "outputs": []
    },
    {
      "cell_type": "markdown",
      "source": [
        "## Análisis exploratorio de datos\n",
        "\n",
        "- Estadística descriptiva\n",
        "  - Análisis univariado\n",
        "    - Tendencia central\n",
        "    - Dispersión\n",
        "    - Curtosis\n",
        "    - Simetría\n",
        "  - Análisis bivariado\n",
        "    - Correlación\n",
        "    - Distancias\n",
        "    - Covarianza\n",
        "- Análisis gráfico\n",
        "  - Análisis univariado\n",
        "    - Distribución\n",
        "  - Análisis bivariado\n",
        "    - Relación\n",
        "      - Numérica vs. numérica\n",
        "      - Númerica vs. categórica"
      ],
      "metadata": {
        "id": "Pnq364415dUN"
      }
    },
    {
      "cell_type": "markdown",
      "source": [
        "### Estadística descriptiva"
      ],
      "metadata": {
        "id": "7l7OvHUo6J5z"
      }
    },
    {
      "cell_type": "markdown",
      "source": [
        "#### Análisis univariado"
      ],
      "metadata": {
        "id": "h5V-mHbV-EG2"
      }
    },
    {
      "cell_type": "code",
      "execution_count": null,
      "metadata": {
        "id": "Q_SVtxym30Wg"
      },
      "outputs": [],
      "source": [
        "# tendencia central"
      ]
    },
    {
      "cell_type": "code",
      "source": [
        "# dispersión"
      ],
      "metadata": {
        "id": "tmRRFifj-R7i"
      },
      "execution_count": null,
      "outputs": []
    },
    {
      "cell_type": "code",
      "source": [
        "# curtosis"
      ],
      "metadata": {
        "id": "FJFkmkx5-RzP"
      },
      "execution_count": null,
      "outputs": []
    },
    {
      "cell_type": "code",
      "source": [
        "# simetría"
      ],
      "metadata": {
        "id": "9Ppc3Fru-Rhz"
      },
      "execution_count": null,
      "outputs": []
    },
    {
      "cell_type": "markdown",
      "source": [
        "#### Análisis bivariado"
      ],
      "metadata": {
        "id": "oxQCaaOS-F4d"
      }
    },
    {
      "cell_type": "code",
      "source": [
        "# análisis de correlación"
      ],
      "metadata": {
        "id": "PHp3U4Oy-HSa"
      },
      "execution_count": null,
      "outputs": []
    },
    {
      "cell_type": "code",
      "source": [
        "# distancias"
      ],
      "metadata": {
        "id": "_KfUlfdn-Yrf"
      },
      "execution_count": null,
      "outputs": []
    },
    {
      "cell_type": "code",
      "source": [
        "# varianzas y covarianzas"
      ],
      "metadata": {
        "id": "XmDs7W4J-aJm"
      },
      "execution_count": null,
      "outputs": []
    },
    {
      "cell_type": "markdown",
      "source": [
        "### Análisis gráfico"
      ],
      "metadata": {
        "id": "LYAx63uq6MTy"
      }
    },
    {
      "cell_type": "markdown",
      "source": [
        "#### Análisis univariado"
      ],
      "metadata": {
        "id": "xgoOCb1R-Hr-"
      }
    },
    {
      "cell_type": "code",
      "source": [
        "# distribución"
      ],
      "metadata": {
        "id": "BafF4gn56OJ2"
      },
      "execution_count": null,
      "outputs": []
    },
    {
      "cell_type": "markdown",
      "source": [
        "#### Análisis bivariado"
      ],
      "metadata": {
        "id": "4K2irUqt-Jnb"
      }
    },
    {
      "cell_type": "code",
      "source": [
        "# relación num vs. num"
      ],
      "metadata": {
        "id": "NkGViUbv-LIw"
      },
      "execution_count": null,
      "outputs": []
    },
    {
      "cell_type": "code",
      "source": [
        "# relación num vs. cat"
      ],
      "metadata": {
        "id": "CPQkmF-n-wIE"
      },
      "execution_count": null,
      "outputs": []
    },
    {
      "cell_type": "markdown",
      "source": [
        "### Probando hipótesis\n",
        "\n",
        "- Diferencia de medias\n",
        "- Diferencia de varianzas\n",
        "- Relación de variables categóricas\n"
      ],
      "metadata": {
        "id": "FUfvseyJ6kRG"
      }
    },
    {
      "cell_type": "markdown",
      "source": [
        "#### Diferencia de medias"
      ],
      "metadata": {
        "id": "QGai6vxF-LwH"
      }
    },
    {
      "cell_type": "code",
      "source": [
        "# ttest"
      ],
      "metadata": {
        "id": "or5O-nU5-NKR"
      },
      "execution_count": null,
      "outputs": []
    },
    {
      "cell_type": "markdown",
      "source": [
        "#### Diferencia de varianzas"
      ],
      "metadata": {
        "id": "ZdgTV07D-NjW"
      }
    },
    {
      "cell_type": "code",
      "source": [
        "# levene"
      ],
      "metadata": {
        "id": "EGPt5ka1-O8p"
      },
      "execution_count": null,
      "outputs": []
    },
    {
      "cell_type": "markdown",
      "source": [
        "#### Relación de variables categóricas"
      ],
      "metadata": {
        "id": "R_emW5ZG-obO"
      }
    },
    {
      "cell_type": "code",
      "source": [
        "# chi2"
      ],
      "metadata": {
        "id": "nvcQ8yPJAZ4E"
      },
      "execution_count": null,
      "outputs": []
    }
  ]
}